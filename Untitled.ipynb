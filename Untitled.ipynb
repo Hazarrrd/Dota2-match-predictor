{
 "cells": [
  {
   "cell_type": "code",
   "execution_count": null,
   "metadata": {},
   "outputs": [],
   "source": [
    "import pandas as pd\n",
    "import pickle\n",
    "import numpy as np\n",
    "from sklearn.metrics import accuracy_score\n",
    "import seaborn"
   ]
  },
  {
   "cell_type": "code",
   "execution_count": null,
   "metadata": {},
   "outputs": [],
   "source": [
    "bookies = pd.read_csv(\"datasets/bookies.csv\")\n",
    "xs = bookies.drop([\"rad_won\", \"odds_1\", \"odds_2\", 'winner'], axis=1)\n",
    "ys = bookies['rad_won']"
   ]
  },
  {
   "cell_type": "code",
   "execution_count": null,
   "metadata": {},
   "outputs": [],
   "source": [
    "with open(\"models/model_xgboost.pickle\", \"rb\") as f:\n",
    "    model = pickle.load(f)"
   ]
  },
  {
   "cell_type": "code",
   "execution_count": null,
   "metadata": {},
   "outputs": [],
   "source": [
    "results = model.predict(xs)\n",
    "results_proba = model.predict_proba(xs)[:,1]\n",
    "\n",
    "idx = np.argwhere(np.abs(results_proba - 0.5) > 0.1).reshape(-1)\n",
    "\n",
    "print(accuracy_score(results, ys))\n",
    "print(accuracy_score(results[idx], ys[idx]))"
   ]
  },
  {
   "cell_type": "markdown",
   "metadata": {},
   "source": [
    "## Nasz algorytm"
   ]
  },
  {
   "cell_type": "code",
   "execution_count": null,
   "metadata": {},
   "outputs": [],
   "source": [
    "money_gain = 0\n",
    "\n",
    "i = 0\n",
    "\n",
    "states = []\n",
    "for i in range(len(bookies)):\n",
    "    xs = bookies.iloc[i:i+1].drop([\"rad_won\", \"odds_1\", \"odds_2\", 'winner'], axis=1)\n",
    "    ys = bookies.iloc[i:i+1]['rad_won']\n",
    "        \n",
    "    winner = model.predict(xs)[0]\n",
    "    winner_probs = model.predict_proba(xs)[0, 0]\n",
    "        \n",
    "    odds = [bookies.iloc[i]['odds_1'], bookies.iloc[i]['odds_1']]\n",
    "    \n",
    "    bet = 10\n",
    "    if (winner == 1 and bookies.iloc[i]['winner'] == 2) or (winner == 0 and bookies.iloc[i]['winner'] == 1):\n",
    "        money_gain += odds[int(winner)] * bet\n",
    "    elif bookies.iloc[i]['winner'] == 0:\n",
    "        money_gain += 0 # Return\n",
    "    else:\n",
    "        money_gain -= bet\n",
    "        \n",
    "    states.append(money_gain)"
   ]
  },
  {
   "cell_type": "markdown",
   "metadata": {},
   "source": [
    "## Nasz algorytm bezpieczny"
   ]
  },
  {
   "cell_type": "code",
   "execution_count": null,
   "metadata": {},
   "outputs": [],
   "source": [
    "money_gain = 0\n",
    "\n",
    "i = 0\n",
    "\n",
    "states_safe = []\n",
    "for i in range(len(bookies)):\n",
    "    xs = bookies.iloc[i:i+1].drop([\"rad_won\", \"odds_1\", \"odds_2\", 'winner'], axis=1)\n",
    "    ys = bookies.iloc[i:i+1]['rad_won']\n",
    "        \n",
    "    winner = model.predict(xs)[0]\n",
    "    winner_probs = model.predict_proba(xs)[0, 0]\n",
    "        \n",
    "    # If we are not sure, pass...\n",
    "    if (np.abs(winner_probs - 0.5) < 0.1):\n",
    "        states_safe.append(money_gain)\n",
    "        continue\n",
    "        \n",
    "    odds = [bookies.iloc[i]['odds_1'], bookies.iloc[i]['odds_1']]\n",
    "    \n",
    "    bet = 10\n",
    "    if (winner == 1 and bookies.iloc[i]['winner'] == 2) or (winner == 0 and bookies.iloc[i]['winner'] == 1):\n",
    "        money_gain += odds[int(winner)] * bet\n",
    "    elif bookies.iloc[i]['winner'] == 0:\n",
    "        money_gain += 0 # Return\n",
    "    else:\n",
    "        money_gain -= bet\n",
    "        \n",
    "    states_safe.append(money_gain)"
   ]
  },
  {
   "cell_type": "markdown",
   "metadata": {},
   "source": [
    "## Skuteczność metody postaw na bukmachera"
   ]
  },
  {
   "cell_type": "code",
   "execution_count": null,
   "metadata": {},
   "outputs": [],
   "source": [
    "money_gain = 0\n",
    "i = 0\n",
    "\n",
    "states_bookie = []\n",
    "for i in range(len(bookies)):\n",
    "    xs = bookies.iloc[i:i+1].drop([\"rad_won\", \"odds_1\", \"odds_2\", 'winner'], axis=1)\n",
    "    ys = bookies.iloc[i:i+1]['rad_won']\n",
    "        \n",
    "    winner = model.predict(xs)[0]\n",
    "    winner_probs = model.predict_proba(xs)[0, 0]\n",
    "            \n",
    "    odds = [bookies.iloc[i]['odds_1'], bookies.iloc[i]['odds_1']]\n",
    "    \n",
    "    winner = np.argmax(odds)\n",
    "    bet = 10\n",
    "    if (winner == 1 and bookies.iloc[i]['winner'] == 2) or (winner == 0 and bookies.iloc[i]['winner'] == 1):\n",
    "        money_gain += odds[int(winner)] * bet\n",
    "    elif bookies.iloc[i]['winner'] == 0:\n",
    "        money_gain += 0 # Return\n",
    "    else:\n",
    "        money_gain -= bet\n",
    "        \n",
    "    states_bookie.append(money_gain)"
   ]
  },
  {
   "cell_type": "markdown",
   "metadata": {},
   "source": [
    "## Skuteczność metody postaw na dużą wygraną"
   ]
  },
  {
   "cell_type": "code",
   "execution_count": null,
   "metadata": {},
   "outputs": [],
   "source": [
    "money_gain = 0\n",
    "i = 0\n",
    "\n",
    "states_anti_bookie = []\n",
    "for i in range(len(bookies)):\n",
    "    xs = bookies.iloc[i:i+1].drop([\"rad_won\", \"odds_1\", \"odds_2\", 'winner'], axis=1)\n",
    "    ys = bookies.iloc[i:i+1]['rad_won']\n",
    "        \n",
    "    winner = model.predict(xs)[0]\n",
    "    winner_probs = model.predict_proba(xs)[0, 0]\n",
    "            \n",
    "    odds = [bookies.iloc[i]['odds_1'], bookies.iloc[i]['odds_1']]\n",
    "    \n",
    "    winner = np.abs(1 - np.argmax(odds))\n",
    "\n",
    "    bet = 10\n",
    "    if (winner == 1 and bookies.iloc[i]['winner'] == 2) or (winner == 0 and bookies.iloc[i]['winner'] == 1):\n",
    "        money_gain += odds[int(winner)] * bet\n",
    "    elif bookies.iloc[i]['winner'] == 0:\n",
    "        money_gain += 0 # Return\n",
    "    else:\n",
    "        money_gain -= bet\n",
    "        \n",
    "    states_anti_bookie.append(money_gain)"
   ]
  },
  {
   "cell_type": "code",
   "execution_count": null,
   "metadata": {},
   "outputs": [],
   "source": [
    "df = pd.DataFrame({\"match\": range(len(states)), \"Sure Bookie\": states_bookie, \"Anti bookie\": states_anti_bookie, \"Our strategy\": states, \"Our strategy (60%)\": states_safe})\n",
    "\n",
    "df = df.melt('match', var_name='Strategy',  value_name='Summarized gain')\n",
    "\n",
    "seaborn.lineplot(data=df, x=\"match\", y=\"Summarized gain\", hue=\"Strategy\")"
   ]
  },
  {
   "cell_type": "code",
   "execution_count": null,
   "metadata": {},
   "outputs": [],
   "source": []
  },
  {
   "cell_type": "code",
   "execution_count": null,
   "metadata": {},
   "outputs": [],
   "source": []
  }
 ],
 "metadata": {
  "kernelspec": {
   "display_name": "Python 3",
   "language": "python",
   "name": "python3"
  },
  "language_info": {
   "codemirror_mode": {
    "name": "ipython",
    "version": 3
   },
   "file_extension": ".py",
   "mimetype": "text/x-python",
   "name": "python",
   "nbconvert_exporter": "python",
   "pygments_lexer": "ipython3",
   "version": "3.7.5"
  }
 },
 "nbformat": 4,
 "nbformat_minor": 4
}
