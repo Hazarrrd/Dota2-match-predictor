{
 "cells": [
  {
   "cell_type": "code",
   "execution_count": 82,
   "metadata": {},
   "outputs": [],
   "source": [
    "import pandas as pd\n",
    "import requests\n",
    "from IPython.display import display\n",
    "import tqdm\n",
    "from glob import glob\n",
    "import os\n",
    "from common import entry_advanced\n",
    "import json"
   ]
  },
  {
   "cell_type": "code",
   "execution_count": 83,
   "metadata": {},
   "outputs": [
    {
     "data": {
      "text/html": [
       "<div>\n",
       "<style scoped>\n",
       "    .dataframe tbody tr th:only-of-type {\n",
       "        vertical-align: middle;\n",
       "    }\n",
       "\n",
       "    .dataframe tbody tr th {\n",
       "        vertical-align: top;\n",
       "    }\n",
       "\n",
       "    .dataframe thead th {\n",
       "        text-align: right;\n",
       "    }\n",
       "</style>\n",
       "<table border=\"1\" class=\"dataframe\">\n",
       "  <thead>\n",
       "    <tr style=\"text-align: right;\">\n",
       "      <th></th>\n",
       "      <th>ID</th>\n",
       "      <th>Team 1</th>\n",
       "      <th>Team 2</th>\n",
       "      <th>Odds 1</th>\n",
       "      <th>Odds 2</th>\n",
       "      <th>Winner</th>\n",
       "    </tr>\n",
       "  </thead>\n",
       "  <tbody>\n",
       "    <tr>\n",
       "      <th>0</th>\n",
       "      <td>0</td>\n",
       "      <td>OG</td>\n",
       "      <td>Team Liquid</td>\n",
       "      <td>1.71</td>\n",
       "      <td>2.06</td>\n",
       "      <td>1</td>\n",
       "    </tr>\n",
       "    <tr>\n",
       "      <th>1</th>\n",
       "      <td>1</td>\n",
       "      <td>PSG.LGD</td>\n",
       "      <td>Team Liquid</td>\n",
       "      <td>1.71</td>\n",
       "      <td>2.06</td>\n",
       "      <td>2</td>\n",
       "    </tr>\n",
       "    <tr>\n",
       "      <th>2</th>\n",
       "      <td>2</td>\n",
       "      <td>Team Liquid</td>\n",
       "      <td>Team Secret</td>\n",
       "      <td>1.75</td>\n",
       "      <td>2.33</td>\n",
       "      <td>1</td>\n",
       "    </tr>\n",
       "    <tr>\n",
       "      <th>3</th>\n",
       "      <td>3</td>\n",
       "      <td>PSG.LGD</td>\n",
       "      <td>OG</td>\n",
       "      <td>1.42</td>\n",
       "      <td>2.39</td>\n",
       "      <td>2</td>\n",
       "    </tr>\n",
       "    <tr>\n",
       "      <th>4</th>\n",
       "      <td>4</td>\n",
       "      <td>Vici Gaming</td>\n",
       "      <td>Team Secret</td>\n",
       "      <td>1.84</td>\n",
       "      <td>1.88</td>\n",
       "      <td>2</td>\n",
       "    </tr>\n",
       "  </tbody>\n",
       "</table>\n",
       "</div>"
      ],
      "text/plain": [
       "   ID       Team 1       Team 2  Odds 1  Odds 2   Winner\n",
       "0   0           OG  Team Liquid    1.71    2.06        1\n",
       "1   1      PSG.LGD  Team Liquid    1.71    2.06        2\n",
       "2   2  Team Liquid  Team Secret    1.75    2.33        1\n",
       "3   3      PSG.LGD           OG    1.42    2.39        2\n",
       "4   4  Vici Gaming  Team Secret    1.84    1.88        2"
      ]
     },
     "execution_count": 83,
     "metadata": {},
     "output_type": "execute_result"
    }
   ],
   "source": [
    "bookies = pd.read_csv(\"bookies/odds.csv\")\n",
    "bookies.head()"
   ]
  },
  {
   "cell_type": "code",
   "execution_count": 84,
   "metadata": {},
   "outputs": [],
   "source": [
    "teams_json = requests.get(\"https://api.opendota.com/api/teams\").text"
   ]
  },
  {
   "cell_type": "code",
   "execution_count": 92,
   "metadata": {},
   "outputs": [],
   "source": [
    "# Download all teams info\n",
    "required_teams = set(bookies['Team 1'].values.tolist() + bookies['Team 2'].values.tolist())\n",
    "all_teams = pd.read_json(teams_json)\n",
    "\n",
    "teams_ids = {}\n",
    "for team in required_teams:\n",
    "    team_id = all_teams[all_teams[\"name\"] == team]\n",
    "    \n",
    "    if len(team_id) > 1:\n",
    "        team_id = team_id.loc[team_id[\"last_match_time\"].idxmax()]\n",
    "    else:\n",
    "        team_id = team_id.iloc[0]\n",
    "        \n",
    "    teams_ids[team_id['name']] = team_id['team_id']"
   ]
  },
  {
   "cell_type": "markdown",
   "metadata": {},
   "source": [
    "## Download players list per team"
   ]
  },
  {
   "cell_type": "code",
   "execution_count": 95,
   "metadata": {},
   "outputs": [
    {
     "name": "stderr",
     "output_type": "stream",
     "text": [
      "100%|██████████| 17/17 [00:13<00:00,  1.25it/s]\n"
     ]
    }
   ],
   "source": [
    "for team_id in tqdm.tqdm(teams_ids.values()):\n",
    "    url = f\"https://api.opendota.com/api/teams/{team_id}/players?\"\n",
    "    data = requests.get(url).text\n",
    "    with open(f\"data/opendota/proplayers/test_teams/{team_id}.json\", \"w\") as f:\n",
    "        f.write(data)"
   ]
  },
  {
   "cell_type": "markdown",
   "metadata": {},
   "source": [
    "## Check if all payers are in database"
   ]
  },
  {
   "cell_type": "code",
   "execution_count": 96,
   "metadata": {},
   "outputs": [
    {
     "name": "stderr",
     "output_type": "stream",
     "text": [
      "100%|██████████| 17/17 [00:00<00:00, 214.57it/s]"
     ]
    },
    {
     "name": "stdout",
     "output_type": "stream",
     "text": [
      "data/opendota/proplayers/test_teams/111474.json\n",
      "111474\n",
      "data/opendota/proplayers/test_teams/2586976.json\n",
      "2586976\n",
      "data/opendota/proplayers/test_teams/39.json\n",
      "39\n",
      "data/opendota/proplayers/test_teams/36.json\n",
      "36\n",
      "data/opendota/proplayers/test_teams/1375614.json\n",
      "1375614\n",
      "data/opendota/proplayers/test_teams/6214973.json\n",
      "6214973\n",
      "data/opendota/proplayers/test_teams/1883502.json\n",
      "1883502\n",
      "data/opendota/proplayers/test_teams/2163.json\n",
      "2163\n",
      "data/opendota/proplayers/test_teams/5029074.json\n",
      "5029074\n",
      "data/opendota/proplayers/test_teams/350190.json\n",
      "350190\n",
      "data/opendota/proplayers/test_teams/15.json\n",
      "15\n",
      "data/opendota/proplayers/test_teams/5065748.json\n",
      "5065748\n",
      "data/opendota/proplayers/test_teams/726228.json\n",
      "726228\n",
      "data/opendota/proplayers/test_teams/2108395.json\n",
      "2108395\n",
      "data/opendota/proplayers/test_teams/6666989.json\n",
      "6666989\n",
      "data/opendota/proplayers/test_teams/6209804.json\n",
      "6209804\n",
      "data/opendota/proplayers/test_teams/1838315.json\n",
      "1838315\n"
     ]
    },
    {
     "name": "stderr",
     "output_type": "stream",
     "text": [
      "\n"
     ]
    }
   ],
   "source": [
    "with open(\"utils/player_query.txt\", \"r\") as f:\n",
    "    query_template = f.read()\n",
    "    \n",
    "files = glob(\"data/opendota/proplayers/test_teams/*\")\n",
    "teams = {}\n",
    "\n",
    "for file in tqdm.tqdm(files):\n",
    "    print(file)\n",
    "    players = pd.read_json(file)\n",
    "    team_id = int(file.split(\"/\")[-1].split(\".\")[0])\n",
    "    print(team_id)\n",
    "    teams[team_id] = []\n",
    "    \n",
    "    players_current = players[players['is_current_team_member'] == True]\n",
    "    if len(players_current) > 5:\n",
    "        continue\n",
    "        players_current = players_current.iloc[:5]\n",
    "    elif len(players_current) < 5:\n",
    "        continue\n",
    "        players_current = players_current.append(players.sample(n=(5-len(players_current))))\n",
    "        \n",
    "    for _, player in players_current.iterrows():        \n",
    "        account_id = player['account_id']\n",
    "        url = query_template.replace(\"[[[account_id]]]\", str(account_id))\n",
    "        filename = f\"data/opendota/proplayers/test_players/{account_id}.json\"\n",
    "        \n",
    "        teams[team_id].append(account_id)\n",
    "        \n",
    "        if os.path.exists(filename):\n",
    "            continue\n",
    "        \n",
    "        while (True):\n",
    "            try:\n",
    "                result = requests.get(url)\n",
    "                if result.status_code == 200:\n",
    "                    with open(filename, \"w\") as f:\n",
    "                        f.write(result.text)\n",
    "                    break\n",
    "                else:\n",
    "                    sleep(1.0)\n",
    "            except e:\n",
    "                sleep(1.0)"
   ]
  },
  {
   "cell_type": "markdown",
   "metadata": {},
   "source": [
    "## Calculate per / player stats"
   ]
  },
  {
   "cell_type": "code",
   "execution_count": 97,
   "metadata": {},
   "outputs": [
    {
     "name": "stderr",
     "output_type": "stream",
     "text": [
      "100%|██████████| 85/85 [00:09<00:00,  9.21it/s]\n"
     ]
    }
   ],
   "source": [
    "files = glob(\"data/opendota/proplayers/test_players/*\")\n",
    "players = pd.DataFrame()\n",
    "\n",
    "for file in tqdm.tqdm(files):\n",
    "    matches = pd.read_json(file, \"r\")\n",
    "    account_id=file.split(\"/\")[-1].split(\".\")[0]\n",
    "    num_matches = len(matches)\n",
    "    \n",
    "    matches['win'] = (matches['player_slot'] < 128) == matches['radiant_win']\n",
    "    \n",
    "    # clean data\n",
    "    matches_clean = matches.drop([\n",
    "        \"match_id\",\n",
    "        \"player_slot\",\n",
    "        \"radiant_win\",\n",
    "        \"start_time\",\n",
    "        \"lobby_type\",\n",
    "        \"game_mode\",\n",
    "        \"leaver_status\",\n",
    "        \"hero_id\",\n",
    "        \"version\",\n",
    "        \"skill\",\n",
    "        \"party_size\"\n",
    "    ], axis=1)\n",
    "\n",
    "    entry = {\n",
    "        'account_id': account_id,\n",
    "        'num_matches': num_matches,\n",
    "        **(matches_clean.mean().to_dict())\n",
    "    }\n",
    "    \n",
    "    players = players.append(entry, ignore_index=True)"
   ]
  },
  {
   "cell_type": "code",
   "execution_count": 100,
   "metadata": {},
   "outputs": [
    {
     "name": "stderr",
     "output_type": "stream",
     "text": [
      "45it [00:00, 84.48it/s]\n"
     ]
    }
   ],
   "source": [
    "result_df = pd.DataFrame()\n",
    "for _, match in tqdm.tqdm(bookies.iterrows()):  \n",
    "    #if match[' Winner'] == 0:\n",
    "    #    print(\"ok\")\n",
    "    #    continue\n",
    "        \n",
    "    team_rad = teams_ids[match['Team 1']]\n",
    "    team_norad = teams_ids[match['Team 2']]\n",
    "        \n",
    "    players_rad_ids = teams[team_rad]\n",
    "    players_norad_ids = teams[team_norad]\n",
    "    \n",
    "    if (len(players_rad_ids) != 5 or len(players_norad_ids) != 5):\n",
    "        continue\n",
    "        \n",
    "    players_rad = players[players['account_id'].astype('int32').isin(players_rad_ids)]\n",
    "    players_norad = players[players['account_id'].astype('int32').isin(players_norad_ids)]\n",
    "            \n",
    "    entry = entry_advanced(players_rad, players_norad, match[' Winner'] == 2)\n",
    "    \n",
    "    entry['odds_1'] = match['Odds 1']\n",
    "    entry['odds_2'] = match['Odds 2']\n",
    "    entry['winner'] = match[' Winner']\n",
    "        \n",
    "    result_df = result_df.append(entry, ignore_index=True)"
   ]
  },
  {
   "cell_type": "code",
   "execution_count": 101,
   "metadata": {},
   "outputs": [],
   "source": [
    "result_df.to_csv(\"datasets/bookies.csv\", index=None)"
   ]
  },
  {
   "cell_type": "code",
   "execution_count": null,
   "metadata": {},
   "outputs": [],
   "source": []
  }
 ],
 "metadata": {
  "kernelspec": {
   "display_name": "Python 3",
   "language": "python",
   "name": "python3"
  },
  "language_info": {
   "codemirror_mode": {
    "name": "ipython",
    "version": 3
   },
   "file_extension": ".py",
   "mimetype": "text/x-python",
   "name": "python",
   "nbconvert_exporter": "python",
   "pygments_lexer": "ipython3",
   "version": "3.7.5"
  }
 },
 "nbformat": 4,
 "nbformat_minor": 4
}
